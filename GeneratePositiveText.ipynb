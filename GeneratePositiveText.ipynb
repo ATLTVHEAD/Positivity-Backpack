{
 "cells": [
  {
   "cell_type": "code",
   "execution_count": 4,
   "metadata": {
    "tags": []
   },
   "outputs": [
    {
     "output_type": "stream",
     "name": "stderr",
     "text": "Using TensorFlow backend.\nLet's get a 2016 Legend Programming Question\n\n"
    }
   ],
   "source": [
    "from textgenrnn import textgenrnn \n",
    "import pandas as pd\n",
    "\n",
    "textgen = textgenrnn()\n",
    "textgen.generate()"
   ]
  },
  {
   "cell_type": "code",
   "execution_count": 5,
   "metadata": {},
   "outputs": [],
   "source": [
    "ptdf = pd.read_csv('/Users/nated/Documents/Python Scripts/Positivity-Backpack/Positive_Phrases.csv')"
   ]
  },
  {
   "cell_type": "code",
   "execution_count": 6,
   "metadata": {},
   "outputs": [
    {
     "output_type": "execute_result",
     "data": {
      "text/plain": "                          positive_text\n0              We will get through this\n1          You don't have to be perfect\n2  Don't give up no matter the obstacle\n3             stay true to your values!\n4              The future is inside us!\n5                        We are friends\n6                      We are community\n7                      We are neighbors\n8                          We are tight\n9                   We have one another",
      "text/html": "<div>\n<style scoped>\n    .dataframe tbody tr th:only-of-type {\n        vertical-align: middle;\n    }\n\n    .dataframe tbody tr th {\n        vertical-align: top;\n    }\n\n    .dataframe thead th {\n        text-align: right;\n    }\n</style>\n<table border=\"1\" class=\"dataframe\">\n  <thead>\n    <tr style=\"text-align: right;\">\n      <th></th>\n      <th>positive_text</th>\n    </tr>\n  </thead>\n  <tbody>\n    <tr>\n      <th>0</th>\n      <td>We will get through this</td>\n    </tr>\n    <tr>\n      <th>1</th>\n      <td>You don't have to be perfect</td>\n    </tr>\n    <tr>\n      <th>2</th>\n      <td>Don't give up no matter the obstacle</td>\n    </tr>\n    <tr>\n      <th>3</th>\n      <td>stay true to your values!</td>\n    </tr>\n    <tr>\n      <th>4</th>\n      <td>The future is inside us!</td>\n    </tr>\n    <tr>\n      <th>5</th>\n      <td>We are friends</td>\n    </tr>\n    <tr>\n      <th>6</th>\n      <td>We are community</td>\n    </tr>\n    <tr>\n      <th>7</th>\n      <td>We are neighbors</td>\n    </tr>\n    <tr>\n      <th>8</th>\n      <td>We are tight</td>\n    </tr>\n    <tr>\n      <th>9</th>\n      <td>We have one another</td>\n    </tr>\n  </tbody>\n</table>\n</div>"
     },
     "metadata": {},
     "execution_count": 6
    }
   ],
   "source": [
    "ptdf[: 10]"
   ]
  },
  {
   "cell_type": "code",
   "execution_count": 9,
   "metadata": {
    "tags": []
   },
   "outputs": [
    {
     "output_type": "stream",
     "name": "stdout",
     "text": "39 texts collected.\nTraining on 814 character sequences.\nEpoch 1/8\n1/6 [====>.........................] - ETA: 0s - loss: 0.7124/6 [===================>..........] - ETA: 0s - loss: 0.6077####################\nTemperature: 0.2\n####################\nYou are a better perfect\n\nYou are a beautiful thing\n\nBe Perfect\n\n####################\nTemperature: 0.5\n####################\nYou are a day! It wanna place that the human\n\nBe Humans\n\nYou are an aperane than the worst\n\n####################\nTemperature: 1.0\n####################\nIn the thing!\n\nhuman will be okay\n\nThe final trence not this!  \n\n\b6/6 [==============================] - 6s 1s/step - loss: 0.5504 - lr: 0.0040\nEpoch 2/8\n1/6 [====>.........................] - ETA: 0s - loss: 0.5374/6 [===================>..........] - ETA: 0s - loss: 0.4921####################\nTemperature: 0.2\n####################\nWe are the open thing!\n\nWe are the future than the worst\n\nWe are a gift\n\n####################\nTemperature: 0.5\n####################\nBe Yourself\n\nBe Here\n\nBe We and Stay thing\n\n####################\nTemperature: 1.0\n####################\nstay weeks\n\nmother great the marrage awareness\n\nMe that have to feel travel it\n\n\b6/6 [==============================] - 6s 920ms/step - loss: 0.4963 - lr: 0.0035\nEpoch 3/8\n1/6 [====>.........................] - ETA: 0s - loss: 0.5014/6 [===================>..........] - ETA: 0s - loss: 0.4607####################\nTemperature: 0.2\n####################\nYou are a beautiful human\n\nBe Serious\n\nBe Imaginative\n\n####################\nTemperature: 0.5\n####################\nBe Peaceful\n\nWe are sure okay\n\nBe Serious\n\n####################\nTemperature: 1.0\n####################\nFuel the Future true to Peaceful Presen\n\nBe for a kill great friend\n\nBe Love\n\n\b6/6 [==============================] - 5s 797ms/step - loss: 0.4457 - lr: 0.0030\nEpoch 4/8\n1/6 [====>.........................] - ETA: 0s - loss: 0.5265/6 [========================>.....] - ETA: 0s - loss: 0.4012####################\nTemperature: 0.2\n####################\nWe are done be a great hair day!\n\nYou are a gift\n\nBe Peaceful\n\n####################\nTemperature: 0.5\n####################\nYou are a beautiful together\n\nBe Peaceful\n\nYou have got this!\n\n####################\nTemperature: 1.0\n####################\n\"You are an awesome human, I haven time together for a gift\n\nThank you for stay try\n\nFuel the Safari's Macky\n\n\b6/6 [==============================] - 7s 1s/step - loss: 0.3987 - lr: 0.0025\nEpoch 5/8\n1/6 [====>.........................] - ETA: 0s - loss: 0.3435/6 [========================>.....] - ETA: 0s - loss: 0.3674####################\nTemperature: 0.2\n####################\nBe Inquisitive\n\nWe are tight\n\nYou are a beautiful human\n\n####################\nTemperature: 0.5\n####################\nYou are an awesome pursuits\n\nYou are loving awareness\n\nThe future is inside us toget with the obstacle\n\n####################\nTemperature: 1.0\n####################\nhack you are no marinant\n\nI have gotter in this toget\n\nDon't give up the thing!\n\n\b6/6 [==============================] - 7s 1s/step - loss: 0.3736 - lr: 0.0020\nEpoch 6/8\n1/6 [====>.........................] - ETA: 0s - loss: 0.3825/6 [========================>.....] - ETA: 0s - loss: 0.3717####################\nTemperature: 0.2\n####################\nBe Inquisitive\n\nYou are a gift\n\nBe Inquisitive\n\n####################\nTemperature: 0.5\n####################\nBe Peaceful\n\nWe will get through this\n\nYou are a gift\n\n####################\nTemperature: 1.0\n####################\nWe are better\n\nBe Open Mind\n\nBe earlow --0 angle\n\n\b6/6 [==============================] - 5s 774ms/step - loss: 0.3600 - lr: 0.0015\nEpoch 7/8\n1/6 [====>.........................] - ETA: 0s - loss: 0.3185/6 [========================>.....] - ETA: 0s - loss: 0.3215####################\nTemperature: 0.2\n####################\nYou are a gift\n\nBe Peaceful\n\nBe Peaceful\n\n####################\nTemperature: 0.5\n####################\nYou are an awesome thing!\n\nYou have be the obamatoes\n\nYou are a gift\n\n####################\nTemperature: 1.0\n####################\nBe Imaginative\n\nFuel the Future\n\nBe Spacey\n\n\b6/6 [==============================] - 4s 743ms/step - loss: 0.3281 - lr: 0.0010\nEpoch 8/8\n1/6 [====>.........................] - ETA: 0s - loss: 0.3265/6 [========================>.....] - ETA: 0s - loss: 0.3212####################\nTemperature: 0.2\n####################\nBe Inquisitive\n\nBe Spacey\n\nBe Seriously\n\n####################\nTemperature: 0.5\n####################\nYou got this\n\nYou are an awesome human\n\nBe Peaceful\n\n####################\nTemperature: 1.0\n####################\nYou neecy done fuel up a humanitizers lied!\n\nThe future is wonder\n\nKeerying the differen we are neighbors\n\n\b6/6 [==============================] - 6s 996ms/step - loss: 0.3252 - lr: 5.0000e-04\n"
    }
   ],
   "source": [
    "textgen.train_from_file('/Users/nated/Documents/Python Scripts/Positivity-Backpack/Positive_Phrases.csv', num_epochs=8)"
   ]
  },
  {
   "cell_type": "code",
   "execution_count": 10,
   "metadata": {
    "tags": []
   },
   "outputs": [
    {
     "output_type": "stream",
     "name": "stderr",
     "text": "0%|          | 0/8 [00:00<?, ?it/s]You don't have to be okay\n\n 12%|█▎        | 1/8 [00:00<00:05,  1.29it/s]Be Peaceful\n\n 25%|██▌       | 2/8 [00:01<00:03,  1.56it/s]You can do the tale\n\n 38%|███▊      | 3/8 [00:01<00:03,  1.40it/s]Kim\n\n 50%|█████     | 4/8 [00:02<00:02,  1.85it/s]Be Say\n\n 62%|██████▎   | 5/8 [00:02<00:01,  2.25it/s]Be Heart Uniters to Day!\n\n 75%|███████▌  | 6/8 [00:03<00:01,  1.90it/s]Be As In Heavy\n\n 88%|████████▊ | 7/8 [00:03<00:00,  1.96it/s]You will get into the love with the world perfect !\n\n100%|██████████| 8/8 [00:05<00:00,  1.21it/s]\n"
    }
   ],
   "source": [
    "textgen.generate(8,temperature=1.1)"
   ]
  },
  {
   "cell_type": "code",
   "execution_count": null,
   "metadata": {},
   "outputs": [],
   "source": []
  }
 ],
 "metadata": {
  "language_info": {
   "codemirror_mode": {
    "name": "ipython",
    "version": 3
   },
   "file_extension": ".py",
   "mimetype": "text/x-python",
   "name": "python",
   "nbconvert_exporter": "python",
   "pygments_lexer": "ipython3",
   "version": "3.8.2-final"
  },
  "orig_nbformat": 2,
  "kernelspec": {
   "name": "python38264bit6928573f9668431a8fdbbfe8569e8233",
   "display_name": "Python 3.8.2 64-bit"
  }
 },
 "nbformat": 4,
 "nbformat_minor": 2
}